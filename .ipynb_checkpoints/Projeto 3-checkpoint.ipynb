{
 "cells": [
  {
   "cell_type": "code",
   "execution_count": 8,
   "metadata": {
    "collapsed": true
   },
   "outputs": [],
   "source": [
    "from numpy import linspace\n",
    "%matplotlib inline\n",
    "import matplotlib.pyplot as plt\n",
    "from scipy.integrate import odeint\n",
    "from numpy import linalg \n",
    "from numpy import multiply "
   ]
  },
  {
   "cell_type": "code",
   "execution_count": 9,
   "metadata": {
    "collapsed": true
   },
   "outputs": [],
   "source": [
    "# Demora de 5 a 7 minutos para a pessoa pousar. Fonte: mundo estranho."
   ]
  },
  {
   "cell_type": "code",
   "execution_count": 10,
   "metadata": {
    "collapsed": true
   },
   "outputs": [],
   "source": [
    "def func1(v, t): #v = [y, vy]\n",
    "    m = 70\n",
    "    g = 9.8\n",
    "    k = 0.5\n",
    "    dvdt = g - (k/m)*(v[1]**2)\n",
    "    dydt = v[1]\n",
    "    return [dydt, dvdt]"
   ]
  },
  {
   "cell_type": "code",
   "execution_count": 11,
   "metadata": {
    "collapsed": false
   },
   "outputs": [
    {
     "data": {
      "image/png": "[encoded data removed]",
      "text/plain": [
       "<matplotlib.figure.Figure at 0x258021becf8>"
      ]
     },
     "metadata": {},
     "output_type": "display_data"
    },
    {
     "data": {
      "image/png": "[encoded data removed]",
      "text/plain": [
       "<matplotlib.figure.Figure at 0x258021ccfd0>"
      ]
     },
     "metadata": {},
     "output_type": "display_data"
    }
   ],
   "source": [
    "T = linspace(0,1200)\n",
    "v0 = [4000, 0]\n",
    "y = odeint(func1,v0,T)\n",
    "plt.plot(T, y[:,0])\n",
    "plt.title('Trajetória no eixo y')\n",
    "plt.xlabel('t')\n",
    "plt.ylabel('y')\n",
    "plt.grid()\n",
    "plt.show()\n",
    "\n",
    "plt.plot(T, y[:,1])\n",
    "plt.title('Velocidade')\n",
    "plt.xlabel('t')\n",
    "plt.ylabel('v')\n",
    "plt.grid()\n",
    "plt.show()"
   ]
  },
  {
   "cell_type": "code",
   "execution_count": 17,
   "metadata": {
    "collapsed": false,
    "scrolled": false
   },
   "outputs": [
    {
     "name": "stderr",
     "output_type": "stream",
     "text": [
      "C:\\Users\\Ana Capriles\\Anaconda3\\lib\\site-packages\\ipykernel\\__main__.py:9: RuntimeWarning: invalid value encountered in multiply\n",
      "C:\\Users\\Ana Capriles\\Anaconda3\\lib\\site-packages\\scipy\\integrate\\odepack.py:218: ODEintWarning: Excess accuracy requested (tolerances too small). Run with full_output = 1 to get quantitative information.\n",
      "  warnings.warn(warning_msg, ODEintWarning)\n"
     ]
    },
    {
     "data": {
      "image/png": "[encoded data removed]",
      "text/plain": [
       "<matplotlib.figure.Figure at 0x258020b0e10>"
      ]
     },
     "metadata": {},
     "output_type": "display_data"
    }
   ],
   "source": [
    "def forca_de_resistencia_do_ar(Vetor_velocidade_inicial,k):\n",
    "    V_x = Vetor_velocidade_inicial[0]\n",
    "    V_y = Vetor_velocidade_inicial[1]\n",
    "    V = [V_x, V_y] #vetor velocidade resultante\n",
    "\n",
    "    v = linalg.norm(V) #magnitude de V\n",
    "    v_versor = V/v \n",
    "\n",
    "    F = multiply(-k*(v**2), v_versor)\n",
    "    return F\n",
    "\n",
    "#massa da pessoa em kg (70 kg) mais a massa do paraquedas em kg (18 kg) \n",
    "m = 88\n",
    "#peso da pessoa em N:\n",
    "P = 88*9.8\n",
    "\n",
    "def func(A,t): #A = [x, y, Vx, Vy]\n",
    "    dxdt = A[2]\n",
    "    dydt = A[3]\n",
    "    F = forca_de_resistencia_do_ar((A[2], A[3]), 0.5)\n",
    "    dVxdt = -F[0] / m\n",
    "    dVydt = (F[1] - P) / m\n",
    "    return [dxdt, dydt, dVxdt, dVydt]\n",
    "\n",
    "#Condicões iniciais\n",
    "#x0 = 0\n",
    "#y0 = 4000 #metros -- altitude\n",
    "#Vx0 = 540 #metros por segundo\n",
    "#Vy0 = 0\n",
    "\n",
    "A0 = [0,4000,300,540]\n",
    "\n",
    "T = linspace(0,1200)\n",
    "M = odeint(func, A0, T, mxstep=500000000) \n",
    "\n",
    "plt.plot(M[:,0], M[:,1],'g')\n",
    "plt.xlabel('x_')\n",
    "plt.ylabel('y_')\n",
    "plt.show() "
   ]
  },
  {
   "cell_type": "code",
   "execution_count": null,
   "metadata": {
    "collapsed": true
   },
   "outputs": [],
   "source": [
    "def forca_de_resistencia_do_ar(Vetor_velocidade_inicial,k):\n",
    "    V_x = Vetor_velocidade_inicial[0]\n",
    "    V_y = Vetor_velocidade_inicial[1]\n",
    "    V = [V_x, V_y] #vetor velocidade resultante\n",
    "\n",
    "    v = linalg.norm(V) #magnitude de V\n",
    "    v_versor = V/v \n",
    "\n",
    "    F = multiply(-k*(v**2), v_versor)\n",
    "    return F\n",
    "\n",
    "#massa da pessoa em kg (70 kg) mais a massa do paraquedas em kg (18 kg) \n",
    "m = 88\n",
    "#peso da pessoa em N:\n",
    "P = 88*9.8\n",
    "\n",
    "def func(A,t): #A = [x, y, Vx, Vy]\n",
    "    dxdt = A[2]\n",
    "    dydt = A[3]\n",
    "    F = forca_de_resistencia_do_ar((A[2], A[3]), 0.5)\n",
    "    dVxdt = -F[0] / m\n",
    "    dVydt = (F[1] - P) / m\n",
    "    return [dxdt, dydt, dVxdt, dVydt]\n",
    "\n",
    "#Condicões iniciais\n",
    "#x0 = 0\n",
    "#y0 = 4000 #metros -- altitude\n",
    "#Vx0 = 540 #metros por segundo\n",
    "#Vy0 = 0\n",
    "\n",
    "A0 = [0,4000,300,540]\n",
    "\n",
    "T = linspace(0,1200)\n",
    "M = odeint(func, A0, T, mxstep=500000000) \n",
    "\n",
    "plt.plot(M[:,0], M[:,1],'g')\n",
    "plt.xlabel('x_')\n",
    "plt.ylabel('y_')\n",
    "plt.show() "
   ]
  }
 ],
 "metadata": {
  "kernelspec": {
   "display_name": "Python 3",
   "language": "python",
   "name": "python3"
  },
  "language_info": {
   "codemirror_mode": {
    "name": "ipython",
    "version": 3
   },
   "file_extension": ".py",
   "mimetype": "text/x-python",
   "name": "python",
   "nbconvert_exporter": "python",
   "pygments_lexer": "ipython3",
   "version": "3.5.1"
  }
 },
 "nbformat": 4,
 "nbformat_minor": 0
}
