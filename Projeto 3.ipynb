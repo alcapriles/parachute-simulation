{
 "cells": [
  {
   "cell_type": "code",
   "execution_count": 79,
   "metadata": {
    "collapsed": true
   },
   "outputs": [],
   "source": [
    "from numpy import linspace\n",
    "%matplotlib inline\n",
    "import matplotlib.pyplot as plt\n",
    "from scipy.integrate import odeint\n",
    "from numpy import linalg \n",
    "from numpy import multiply \n",
    "from numpy import concatenate\n",
    "import math"
   ]
  },
  {
   "cell_type": "code",
   "execution_count": 80,
   "metadata": {
    "collapsed": true
   },
   "outputs": [],
   "source": [
    "def func1(v, t): #v = [x, y, vy]\n",
    "    m = 88\n",
    "    g = 9.8\n",
    "    k = 0.5\n",
    "    dvdt = (k/m)*(v[1]**2) - g\n",
    "    dydt = v[1]\n",
    "    return [dydt, dvdt]"
   ]
  },
  {
   "cell_type": "code",
   "execution_count": 81,
   "metadata": {
    "collapsed": false
   },
   "outputs": [
    {
     "data": {
      "image/png": "[encoded data removed]",
      "text/plain": [
       "<matplotlib.figure.Figure at 0x1ef0ac710f0>"
      ]
     },
     "metadata": {},
     "output_type": "display_data"
    },
    {
     "data": {
      "image/png": "[encoded data removed]",
      "text/plain": [
       "<matplotlib.figure.Figure at 0x1ef09877898>"
      ]
     },
     "metadata": {},
     "output_type": "display_data"
    }
   ],
   "source": [
    "T = linspace(0,99)\n",
    "v0 = [4000, 0]\n",
    "y = odeint(func1,v0,T)\n",
    "plt.plot(T, y[:,0])\n",
    "plt.title('Trajetória')\n",
    "plt.xlabel('t')\n",
    "plt.ylabel('y')\n",
    "plt.grid()\n",
    "plt.show()\n",
    "\n",
    "plt.plot(T, y[:,1])\n",
    "plt.title('Velocidade')\n",
    "plt.xlabel('t')\n",
    "plt.ylabel('v')\n",
    "plt.grid()\n",
    "plt.show()"
   ]
  },
  {
   "cell_type": "code",
   "execution_count": 82,
   "metadata": {
    "collapsed": true
   },
   "outputs": [],
   "source": [
    "def modelo_adiabatico_temperatura_pressao_atmosfera():\n",
    "    dtempdt = ((28.96 * 9.8)/1.01) * Vy\n",
    "    densidade = (press * 28.96) / (0.082 * temp)\n",
    "    dpressdt = - (P * 28.96 * 9.8 * Vy * math.e**((-28.96 * 9.8*dY)/(temp*0.082)))/ (0.082*temp)\n",
    "    drag = 0.5 * dens * area * 1.5 * (v**2)\n",
    "    return ddensdt"
   ]
  },
  {
   "cell_type": "code",
   "execution_count": 84,
   "metadata": {
    "collapsed": false,
    "scrolled": false
   },
   "outputs": [
    {
     "ename": "UnboundLocalError",
     "evalue": "local variable 'dVydt' referenced before assignment",
     "output_type": "error",
     "traceback": [
      "\u001b[1;31m---------------------------------------------------------------------------\u001b[0m",
      "\u001b[1;31mUnboundLocalError\u001b[0m                         Traceback (most recent call last)",
      "\u001b[1;32m<ipython-input-84-7958f272196a>\u001b[0m in \u001b[0;36m<module>\u001b[1;34m()\u001b[0m\n\u001b[0;32m     69\u001b[0m \u001b[0mT\u001b[0m \u001b[1;33m=\u001b[0m \u001b[0mlinspace\u001b[0m\u001b[1;33m(\u001b[0m\u001b[1;36m0\u001b[0m\u001b[1;33m,\u001b[0m\u001b[1;36m55\u001b[0m\u001b[1;33m,\u001b[0m\u001b[1;36m46\u001b[0m\u001b[1;33m)\u001b[0m\u001b[1;33m\u001b[0m\u001b[0m\n\u001b[0;32m     70\u001b[0m \u001b[0mT2\u001b[0m \u001b[1;33m=\u001b[0m \u001b[0mlinspace\u001b[0m\u001b[1;33m(\u001b[0m\u001b[1;36m45\u001b[0m\u001b[1;33m,\u001b[0m\u001b[1;36m250\u001b[0m\u001b[1;33m,\u001b[0m\u001b[1;36m107\u001b[0m\u001b[1;33m)\u001b[0m\u001b[1;33m\u001b[0m\u001b[0m\n\u001b[1;32m---> 71\u001b[1;33m \u001b[0mM\u001b[0m \u001b[1;33m=\u001b[0m \u001b[0modeint\u001b[0m\u001b[1;33m(\u001b[0m\u001b[0mfunc\u001b[0m\u001b[1;33m,\u001b[0m \u001b[0mA0\u001b[0m\u001b[1;33m,\u001b[0m \u001b[0mT\u001b[0m\u001b[1;33m,\u001b[0m \u001b[0mmxstep\u001b[0m\u001b[1;33m=\u001b[0m\u001b[1;36m500000000\u001b[0m\u001b[1;33m)\u001b[0m\u001b[1;33m\u001b[0m\u001b[0m\n\u001b[0m\u001b[0;32m     72\u001b[0m \u001b[0ml1\u001b[0m \u001b[1;33m=\u001b[0m \u001b[0mM\u001b[0m\u001b[1;33m[\u001b[0m\u001b[1;33m-\u001b[0m\u001b[1;36m1\u001b[0m\u001b[1;33m,\u001b[0m\u001b[1;36m0\u001b[0m\u001b[1;33m]\u001b[0m\u001b[1;33m\u001b[0m\u001b[0m\n\u001b[0;32m     73\u001b[0m \u001b[0ml2\u001b[0m \u001b[1;33m=\u001b[0m \u001b[0mM\u001b[0m\u001b[1;33m[\u001b[0m\u001b[1;33m-\u001b[0m\u001b[1;36m1\u001b[0m\u001b[1;33m,\u001b[0m\u001b[1;36m1\u001b[0m\u001b[1;33m]\u001b[0m\u001b[1;33m\u001b[0m\u001b[0m\n",
      "\u001b[1;32mC:\\Users\\Ana Capriles\\Anaconda3\\lib\\site-packages\\scipy\\integrate\\odepack.py\u001b[0m in \u001b[0;36modeint\u001b[1;34m(func, y0, t, args, Dfun, col_deriv, full_output, ml, mu, rtol, atol, tcrit, h0, hmax, hmin, ixpr, mxstep, mxhnil, mxordn, mxords, printmessg)\u001b[0m\n\u001b[0;32m    213\u001b[0m     output = _odepack.odeint(func, y0, t, args, Dfun, col_deriv, ml, mu,\n\u001b[0;32m    214\u001b[0m                              \u001b[0mfull_output\u001b[0m\u001b[1;33m,\u001b[0m \u001b[0mrtol\u001b[0m\u001b[1;33m,\u001b[0m \u001b[0matol\u001b[0m\u001b[1;33m,\u001b[0m \u001b[0mtcrit\u001b[0m\u001b[1;33m,\u001b[0m \u001b[0mh0\u001b[0m\u001b[1;33m,\u001b[0m \u001b[0mhmax\u001b[0m\u001b[1;33m,\u001b[0m \u001b[0mhmin\u001b[0m\u001b[1;33m,\u001b[0m\u001b[1;33m\u001b[0m\u001b[0m\n\u001b[1;32m--> 215\u001b[1;33m                              ixpr, mxstep, mxhnil, mxordn, mxords)\n\u001b[0m\u001b[0;32m    216\u001b[0m     \u001b[1;32mif\u001b[0m \u001b[0moutput\u001b[0m\u001b[1;33m[\u001b[0m\u001b[1;33m-\u001b[0m\u001b[1;36m1\u001b[0m\u001b[1;33m]\u001b[0m \u001b[1;33m<\u001b[0m \u001b[1;36m0\u001b[0m\u001b[1;33m:\u001b[0m\u001b[1;33m\u001b[0m\u001b[0m\n\u001b[0;32m    217\u001b[0m         \u001b[0mwarning_msg\u001b[0m \u001b[1;33m=\u001b[0m \u001b[0m_msgs\u001b[0m\u001b[1;33m[\u001b[0m\u001b[0moutput\u001b[0m\u001b[1;33m[\u001b[0m\u001b[1;33m-\u001b[0m\u001b[1;36m1\u001b[0m\u001b[1;33m]\u001b[0m\u001b[1;33m]\u001b[0m \u001b[1;33m+\u001b[0m \u001b[1;34m\" Run with full_output = 1 to get quantitative information.\"\u001b[0m\u001b[1;33m\u001b[0m\u001b[0m\n",
      "\u001b[1;32m<ipython-input-84-7958f272196a>\u001b[0m in \u001b[0;36mfunc\u001b[1;34m(A, t)\u001b[0m\n\u001b[0;32m     19\u001b[0m \u001b[1;32mdef\u001b[0m \u001b[0mfunc\u001b[0m\u001b[1;33m(\u001b[0m\u001b[0mA\u001b[0m\u001b[1;33m,\u001b[0m \u001b[0mt\u001b[0m\u001b[1;33m)\u001b[0m\u001b[1;33m:\u001b[0m \u001b[1;31m#A = [x, y, Vx, Vy, press, temp, dens]\u001b[0m\u001b[1;33m\u001b[0m\u001b[0m\n\u001b[0;32m     20\u001b[0m \u001b[1;33m\u001b[0m\u001b[0m\n\u001b[1;32m---> 21\u001b[1;33m     \u001b[0mdpressdt\u001b[0m \u001b[1;33m=\u001b[0m \u001b[1;33m-\u001b[0m \u001b[1;33m(\u001b[0m\u001b[0mP\u001b[0m \u001b[1;33m*\u001b[0m \u001b[1;36m28.96\u001b[0m \u001b[1;33m*\u001b[0m \u001b[1;36m9.8\u001b[0m \u001b[1;33m*\u001b[0m \u001b[0mdVydt\u001b[0m \u001b[1;33m*\u001b[0m \u001b[0mmath\u001b[0m\u001b[1;33m.\u001b[0m\u001b[0me\u001b[0m\u001b[1;33m**\u001b[0m\u001b[1;33m(\u001b[0m\u001b[1;33m(\u001b[0m\u001b[1;33m-\u001b[0m\u001b[1;36m28.96\u001b[0m \u001b[1;33m*\u001b[0m \u001b[1;36m9.8\u001b[0m\u001b[1;33m*\u001b[0m\u001b[0mdydt\u001b[0m\u001b[1;33m)\u001b[0m\u001b[1;33m/\u001b[0m\u001b[1;33m(\u001b[0m\u001b[0mdtempdt\u001b[0m\u001b[1;33m*\u001b[0m\u001b[1;36m0.082\u001b[0m\u001b[1;33m)\u001b[0m\u001b[1;33m)\u001b[0m\u001b[1;33m)\u001b[0m\u001b[1;33m/\u001b[0m \u001b[1;33m(\u001b[0m\u001b[1;36m0.082\u001b[0m\u001b[1;33m*\u001b[0m\u001b[0mdtempdt\u001b[0m\u001b[1;33m)\u001b[0m\u001b[1;33m\u001b[0m\u001b[0m\n\u001b[0m\u001b[0;32m     22\u001b[0m     \u001b[0mdtempdt\u001b[0m \u001b[1;33m=\u001b[0m \u001b[1;33m(\u001b[0m\u001b[1;33m(\u001b[0m\u001b[1;36m28.96\u001b[0m \u001b[1;33m*\u001b[0m \u001b[1;36m9.8\u001b[0m\u001b[1;33m)\u001b[0m\u001b[1;33m/\u001b[0m\u001b[1;36m1.01\u001b[0m\u001b[1;33m)\u001b[0m \u001b[1;33m*\u001b[0m \u001b[0mdVydt\u001b[0m\u001b[1;33m\u001b[0m\u001b[0m\n\u001b[0;32m     23\u001b[0m     \u001b[0mddensdt\u001b[0m \u001b[1;33m=\u001b[0m \u001b[1;33m(\u001b[0m\u001b[0mdpressdt\u001b[0m \u001b[1;33m*\u001b[0m \u001b[1;36m28.96\u001b[0m\u001b[1;33m)\u001b[0m \u001b[1;33m/\u001b[0m \u001b[1;33m(\u001b[0m\u001b[1;36m0.082\u001b[0m \u001b[1;33m*\u001b[0m \u001b[0mdtempdt\u001b[0m\u001b[1;33m)\u001b[0m\u001b[1;33m\u001b[0m\u001b[0m\n",
      "\u001b[1;31mUnboundLocalError\u001b[0m: local variable 'dVydt' referenced before assignment"
     ]
    }
   ],
   "source": [
    "'''\n",
    "def forca_de_resistencia_do_ar(Vetor_velocidade, drag):\n",
    "    V_x = Vetor_velocidade[0]\n",
    "    V_y = Vetor_velocidade[1]\n",
    "    V = [V_x, V_y] #vetor velocidade resultante\n",
    "\n",
    "    v = linalg.norm(V) #magnitude de V\n",
    "    v_versor = V/v \n",
    "    \n",
    "    F = multiply(-drag*(v**2), v_versor)\n",
    "    return F\n",
    "'''\n",
    "\n",
    "#massa da pessoa em kg (70 kg) mais a massa do paraquedas em kg (18 kg) \n",
    "m = 88\n",
    "#peso da pessoa em N:\n",
    "P = 88*9.8\n",
    "\n",
    "def func(A, t): #A = [x, y, Vx, Vy, press, temp, dens]\n",
    "    \n",
    "    V_x = A[0]\n",
    "    V_y = A[1]\n",
    "    V = [V_x, V_y] #vetor velocidade resultante\n",
    "    v = linalg.norm(V) #magnitude de V\n",
    "    v_versor = V/v \n",
    "    F = multiply(-drag*(v**2), v_versor)\n",
    "    \n",
    "    dxdt = A[2]\n",
    "    dydt = A[3]\n",
    "    dVxdt = F[0] / m\n",
    "    dVydt = (F[1] - P) / m\n",
    "    \n",
    "    dpressdt = - (P * 28.96 * 9.8 * dVydt * math.e**((-28.96 * 9.8*dydt)/(dtempdt*0.082)))/ (0.082*dtempdt)\n",
    "    dtempdt = ((28.96 * 9.8)/1.01) * dVydt\n",
    "    ddensdt = (dpressdt * 28.96) / (0.082 * dtempdt)\n",
    "    drag = 0.5 * ddensdt * 1.05 * 1.5\n",
    "    \n",
    "    return [dxdt, dydt, dVxdt, dVydt, dpressdt, dtempdt, ddensdt]\n",
    "\n",
    "def func_paraquedas_abre(A, t): #A = [x, y, Vx, Vy, press, temp, dens]\n",
    "    \n",
    "    V_x = A[0]\n",
    "    V_y = A[1]\n",
    "    V = [V_x, V_y] #vetor velocidade resultante\n",
    "    v = linalg.norm(V) #magnitude de V\n",
    "    v_versor = V/v \n",
    "    F = multiply(-drag*(v**2), v_versor)\n",
    "    \n",
    "    dxdt = A[2]\n",
    "    dydt = A[3]\n",
    "    dVxdt = F[0] / m\n",
    "    dVydt = (F[1] - P) / m\n",
    "    \n",
    "    dpressdt = - (P * 28.96 * 9.8 * dVydt * math.e**((-28.96 * 9.8*dydt)/(dtempdt*0.082)))/ (0.082*dtempdt)\n",
    "    dtempdt = ((28.96 * 9.8)/1.01) * dVydt\n",
    "    ddensdt = (dpressdt * 28.96) / (0.082 * dtempdt)\n",
    "    drag = 0.5 * ddensdt * 10 * 1.5\n",
    "    \n",
    "    return [dxdt, dydt, dVxdt, dVydt, dpressdt, dtempdt, ddensdt]\n",
    "\n",
    "#Condicões iniciais\n",
    "#A = [x, y, Vx, Vy]\n",
    "#x0 = 0\n",
    "#y0 = 4000 #metros -- altitude\n",
    "#Vx0 = 540 #metros por segundo\n",
    "#Vy0 = 0\n",
    "\n",
    "A0 = [0,4000,300,0,50, 63800, 273, 0.5]\n",
    "T = linspace(0,55,46)\n",
    "T2 = linspace(45,250,107)\n",
    "M = odeint(func, A0, T, mxstep=500000000) \n",
    "l1 = M[-1,0]\n",
    "l2 = M[-1,1]\n",
    "l3 = M[-1,2]\n",
    "l4 = M[-1,3]\n",
    "l5 = M[-1,4]\n",
    "l6 = M[-1,5]\n",
    "l7 = M[-1,6]\n",
    "A1 = [l1, l2, l3, l4, l5, l6, l7]\n",
    "M2 = odeint(func_paraquedas_abre, A1, T2, mxstep=500000000)\n",
    "T_final = concatenate((T, T2), axis=0)\n",
    "M3 = concatenate((M, M2), axis = 0)\n",
    "\n",
    "plt.plot(M3[:,0], M3[:,1])\n",
    "plt.xlabel('x')\n",
    "plt.ylabel('y')\n",
    "plt.title('Trajetória')\n",
    "plt.grid()\n",
    "plt.show() \n",
    "\n",
    "plt.plot(T_final, M3[:,3])\n",
    "plt.xlabel('t')\n",
    "plt.ylabel('v')\n",
    "plt.title('Velocidade em y')\n",
    "plt.grid()\n",
    "plt.show() "
   ]
  },
  {
   "cell_type": "code",
   "execution_count": null,
   "metadata": {
    "collapsed": true
   },
   "outputs": [],
   "source": [
    "#slicing do numpy: dois pontos significa todas as linhas ou colunas\n",
    "#exemplo: M[:,0] -- todas as linhas da coluna zero\n",
    "#mais exemplo: M [:,1] -- todas as linhas da coluna 1"
   ]
  }
 ],
 "metadata": {
  "kernelspec": {
   "display_name": "Python 3",
   "language": "python",
   "name": "python3"
  },
  "language_info": {
   "codemirror_mode": {
    "name": "ipython",
    "version": 3
   },
   "file_extension": ".py",
   "mimetype": "text/x-python",
   "name": "python",
   "nbconvert_exporter": "python",
   "pygments_lexer": "ipython3",
   "version": "3.5.1"
  }
 },
 "nbformat": 4,
 "nbformat_minor": 0
}
