{
 "cells": [
  {
   "cell_type": "code",
   "execution_count": 34,
   "metadata": {
    "collapsed": true
   },
   "outputs": [],
   "source": [
    "from numpy import linspace\n",
    "%matplotlib inline\n",
    "import matplotlib.pyplot as plt\n",
    "from scipy.integrate import odeint\n",
    "from numpy import linalg \n",
    "from numpy import multiply "
   ]
  },
  {
   "cell_type": "code",
   "execution_count": 35,
   "metadata": {
    "collapsed": true
   },
   "outputs": [],
   "source": [
    "# Demora de 5 a 7 minutos para a pessoa pousar. Fonte: mundo estranho."
   ]
  },
  {
   "cell_type": "code",
   "execution_count": 36,
   "metadata": {
    "collapsed": true
   },
   "outputs": [],
   "source": [
    "def func1(v, t):\n",
    "    m = 70\n",
    "    g = 9.8\n",
    "    k = 0.5\n",
    "    dvdt = g - (k/m)*(v**2)\n",
    "    return dvdt"
   ]
  },
  {
   "cell_type": "code",
   "execution_count": 37,
   "metadata": {
    "collapsed": false
   },
   "outputs": [],
   "source": [
    "t = linspace(0,20)\n",
    "a = func1(0, t)\n",
    "v0 = 0\n",
    "y = odeint(func1,v0,t)"
   ]
  },
  {
   "cell_type": "code",
   "execution_count": 38,
   "metadata": {
    "collapsed": false
   },
   "outputs": [
    {
     "data": {
      "image/png": "[encoded data removed]",
      "text/plain": [
       "<matplotlib.figure.Figure at 0x267d42eed68>"
      ]
     },
     "metadata": {},
     "output_type": "display_data"
    }
   ],
   "source": [
    "plt.plot(t, y[:,0])\n",
    "plt.xlabel('t')\n",
    "plt.ylabel('y')\n",
    "plt.grid()\n",
    "plt.show()"
   ]
  },
  {
   "cell_type": "code",
   "execution_count": 39,
   "metadata": {
    "collapsed": false
   },
   "outputs": [
    {
     "name": "stderr",
     "output_type": "stream",
     "text": [
      "C:\\Users\\Ana Capriles\\Anaconda3\\lib\\site-packages\\scipy\\integrate\\odepack.py:218: ODEintWarning: Excess work done on this call (perhaps wrong Dfun type). Run with full_output = 1 to get quantitative information.\n",
      "  warnings.warn(warning_msg, ODEintWarning)\n"
     ]
    },
    {
     "data": {
      "image/png": "[encoded data removed]",
      "text/plain": [
       "<matplotlib.figure.Figure at 0x267d44d3550>"
      ]
     },
     "metadata": {},
     "output_type": "display_data"
    }
   ],
   "source": [
    "def forca_de_resistencia_do_ar(Vetor_velocidade_inicial,k):\n",
    "    V_x = Vetor_velocidade_inicial[0]\n",
    "    V_y = Vetor_velocidade_inicial[1]\n",
    "    V = [V_x, V_y] #vetor velocidade resultante\n",
    "\n",
    "    v = linalg.norm(V) #magnitude de V\n",
    "    v_versor = V/v \n",
    "\n",
    "    F = multiply(-k*(v**2), v_versor)\n",
    "    return F\n",
    "\n",
    "#massa da pessoa em kg (70 kg) mais a massa do paraquedas em kg (18 kg) \n",
    "m = 88\n",
    "#peso da pessoa em N:\n",
    "P = 88*9.8\n",
    "\n",
    "def func(A,t): #A = [x, y, Vx, Vy]\n",
    "    dxdt = A[2]\n",
    "    dydt = A[3]\n",
    "    Ps = [0,0] #sistema de coordenadas centrado no ponto de lançamento\n",
    "    F = forca_de_resistencia_do_ar((A[2], 0), 0.5)\n",
    "    dVxdt = -F[0] / m\n",
    "    dVydt = (F[1] - P) / m\n",
    "    return [dxdt, dydt, dVxdt, dVydt]\n",
    "\n",
    "#Condicões iniciais\n",
    "x0 = 0\n",
    "y0 = 4000 #metros -- altitude\n",
    "Vx0 = 540 #metros por segundo\n",
    "Vy0 = 0\n",
    "\n",
    "A0 = [x0,y0,Vx0,Vy0]\n",
    "\n",
    "T = linspace(0,10,50)\n",
    "M = odeint(func,A0,T)\n",
    "\n",
    "F = [0] * 50\n",
    "plt.plot(M[:,0], M[:,1],'g')\n",
    "plt.plot(M[:,1], F,'k')\n",
    "plt.plot(F, M[:,1],'k')\n",
    "plt.xlabel('x_')\n",
    "plt.ylabel('y_')\n",
    "plt.show() "
   ]
  }
 ],
 "metadata": {
  "kernelspec": {
   "display_name": "Python 3",
   "language": "python",
   "name": "python3"
  },
  "language_info": {
   "codemirror_mode": {
    "name": "ipython",
    "version": 3
   },
   "file_extension": ".py",
   "mimetype": "text/x-python",
   "name": "python",
   "nbconvert_exporter": "python",
   "pygments_lexer": "ipython3",
   "version": "3.5.1"
  }
 },
 "nbformat": 4,
 "nbformat_minor": 0
}
